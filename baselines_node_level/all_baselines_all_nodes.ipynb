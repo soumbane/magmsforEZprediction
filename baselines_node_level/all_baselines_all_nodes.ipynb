{
 "cells": [
  {
   "cell_type": "code",
   "execution_count": 1,
   "metadata": {},
   "outputs": [],
   "source": [
    "# All Baselines for Node-Level classification - for left and right temporal lobe nodes\n",
    "import os\n",
    "import numpy as np\n",
    "import pandas as pd\n",
    "import random\n",
    "from tqdm import tqdm\n",
    "from scipy.io import loadmat\n",
    "from sklearn.neural_network import MLPClassifier as MLP\n",
    "from sklearn.ensemble import RandomForestClassifier as RF\n",
    "from sklearn.svm import SVC as SVM\n",
    "\n",
    "from sklearn.metrics import confusion_matrix, balanced_accuracy_score\n",
    "from matplotlib import pyplot as plt\n",
    "\n",
    "import xgboost\n",
    "from xgboost import XGBClassifier as xgb\n",
    "from xgboost import XGBRFClassifier as xgbrf\n",
    "\n",
    "import torch\n",
    "import torch.nn\n",
    "import torch.nn as nn\n",
    "import torch.nn.functional as F\n",
    "import torch.optim\n",
    "from torch.utils.data import DataLoader, random_split"
   ]
  },
  {
   "cell_type": "code",
   "execution_count": 2,
   "metadata": {},
   "outputs": [],
   "source": [
    "def calculate_metrics(y_pred, y_true):\n",
    "\n",
    "    return balanced_accuracy_score(y_true, y_pred)"
   ]
  },
  {
   "cell_type": "code",
   "execution_count": 3,
   "metadata": {},
   "outputs": [],
   "source": [
    "# Root Folder\n",
    "root='/home/neil/Lab_work/Jeong_Lab_Multi_Modal_MRI/Right_Temporal_Lobe/'"
   ]
  },
  {
   "cell_type": "code",
   "execution_count": 31,
   "metadata": {},
   "outputs": [],
   "source": [
    "def get_list_of_node_nums():\n",
    "    node_numbers_with_smote = [\n",
    "        \"948\"\n",
    "    ]\n",
    "\n",
    "    return node_numbers_with_smote"
   ]
  },
  {
   "cell_type": "code",
   "execution_count": 5,
   "metadata": {},
   "outputs": [],
   "source": [
    "def load_train_data(root: str, node_num: str):\n",
    "\n",
    "    train_path = os.path.join(root, 'Node_'+node_num, 'Aug_Train_Data', 'ALL_Patients')  \n",
    "    x_file = f\"X_train_aug\"\n",
    "    y_file = f\"Y_train_aug\"\n",
    "    x_mat_name = \"X_aug_train\"\n",
    "    y_mat_name = \"Y_aug_train\"  \n",
    "\n",
    "    raw_path_x = os.path.join(train_path, f\"{x_file}.mat\")\n",
    "    raw_path_y = os.path.join(train_path, f\"{y_file}.mat\")\n",
    "\n",
    "    # Load the data from .mat files\n",
    "    X_mat_l = loadmat(raw_path_x)\n",
    "    X_mat = X_mat_l[x_mat_name]\n",
    "\n",
    "    Y_mat_l = loadmat(raw_path_y)\n",
    "    Y_mat = Y_mat_l[y_mat_name]\n",
    "    Y_mat = Y_mat.reshape(Y_mat.shape[1],)\n",
    "\n",
    "    return X_mat, Y_mat"
   ]
  },
  {
   "cell_type": "code",
   "execution_count": 6,
   "metadata": {},
   "outputs": [],
   "source": [
    "def load_test_data(root: str, node_num: str):\n",
    "\n",
    "    val_path = os.path.join(root, 'Node_'+node_num, 'Orig_Val_Data', 'ALL_Patients')  \n",
    "    x_file = f\"X_valid_orig\"\n",
    "    y_file = f\"Y_valid_orig\"\n",
    "    x_mat_name = \"X_orig_valid\"\n",
    "    y_mat_name = \"Y_orig_valid\"  \n",
    "\n",
    "    raw_path_x = os.path.join(val_path, f\"{x_file}.mat\")\n",
    "    raw_path_y = os.path.join(val_path, f\"{y_file}.mat\")\n",
    "\n",
    "    # Load the data from .mat files\n",
    "    X_mat_l = loadmat(raw_path_x)\n",
    "    X_mat = X_mat_l[x_mat_name]\n",
    "\n",
    "    Y_mat_l = loadmat(raw_path_y)\n",
    "    Y_mat = Y_mat_l[y_mat_name]\n",
    "    Y_mat = Y_mat.reshape(Y_mat.shape[1],)\n",
    "\n",
    "    return X_mat, Y_mat"
   ]
  },
  {
   "cell_type": "code",
   "execution_count": null,
   "metadata": {},
   "outputs": [],
   "source": [
    "# choose model\n",
    "# model = 'MLP'\n",
    "# model = 'RF'\n",
    "# model = 'XGB'\n",
    "model = 'SVM'"
   ]
  },
  {
   "cell_type": "code",
   "execution_count": 34,
   "metadata": {},
   "outputs": [
    {
     "name": "stdout",
     "output_type": "stream",
     "text": [
      "Node num: 948\n",
      "Training on Node number: 948\n",
      "Evaluating on Node number: 948\n",
      "0.6190476190476191\n"
     ]
    }
   ],
   "source": [
    "# Main loop to run the baseline models over all the nodes\n",
    "\n",
    "node_num_list = [] # stores the node numbers for all nodes\n",
    "bal_acc_list = [] # stores the balanced accuracies for all nodes\n",
    "\n",
    "node_numbers_with_smote = get_list_of_node_nums()\n",
    "\n",
    "for node_num in node_numbers_with_smote:\n",
    "    \n",
    "    print(f'Node num: {node_num}')\n",
    "\n",
    "    # load the data for the given node\n",
    "    X_train, Y_train = load_train_data(root, node_num)\n",
    "    \n",
    "    X_test, Y_test = load_test_data(root, node_num)\n",
    "\n",
    "    # Define the model\n",
    "    if model == 'MLP':\n",
    "        clf = MLP(hidden_layer_sizes=(250,), random_state=None, max_iter=1000, early_stopping=False)\n",
    "    elif model == 'RF':\n",
    "        clf = RF(n_estimators=100, random_state=None,)\n",
    "    elif model == 'XGB':\n",
    "        clf = xgb(objective='binary:logistic',max_depth = 5,n_estimators = 10)\n",
    "    elif model == 'SVM':\n",
    "        clf = SVM(C=1.0, kernel='rbf', max_iter=-1, random_state=None)\n",
    "    else:\n",
    "        raise NotImplementedError(\"Unknown Model.\")\n",
    "\n",
    "    # Train the model\n",
    "    print(f'Training on Node number: {node_num}')\n",
    "    clf.fit(X_train, Y_train)\n",
    "\n",
    "    # Test the model\n",
    "    print(f'Evaluating on Node number: {node_num}')\n",
    "    y_true = Y_test\n",
    "    y_pred = clf.predict(X_test)\n",
    "\n",
    "    # Evaluate Trained Model with evaluation metrics\n",
    "    bal_acc = calculate_metrics(y_pred, y_true)\n",
    "    print(bal_acc)            \n",
    "\n",
    "    # for saving balanced accuracy of nodes\n",
    "    node_num_list.append(node_num)\n",
    "    bal_acc_list.append(bal_acc)\n",
    "\n"
   ]
  },
  {
   "cell_type": "code",
   "execution_count": null,
   "metadata": {},
   "outputs": [],
   "source": [
    "# dictionary of lists\n",
    "dict = {'node number': node_num_list, 'balanced_acc': bal_acc_list}\n",
    "    \n",
    "df = pd.DataFrame(dict)\n",
    "\n",
    "# saving the dataframe\n",
    "metric_filename = model + '_metrics_ALL.csv'\n",
    "save_metrics_path = os.path.join(root,\"metrics\",metric_filename)\n",
    "df.to_csv(save_metrics_path, header=True, index=False)"
   ]
  }
 ],
 "metadata": {
  "kernelspec": {
   "display_name": "magms_ez",
   "language": "python",
   "name": "python3"
  },
  "language_info": {
   "codemirror_mode": {
    "name": "ipython",
    "version": 3
   },
   "file_extension": ".py",
   "mimetype": "text/x-python",
   "name": "python",
   "nbconvert_exporter": "python",
   "pygments_lexer": "ipython3",
   "version": "3.9.18"
  },
  "orig_nbformat": 4
 },
 "nbformat": 4,
 "nbformat_minor": 2
}
